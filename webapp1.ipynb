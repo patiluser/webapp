{
 "cells": [
  {
   "cell_type": "code",
   "execution_count": null,
   "id": "2823c4f2",
   "metadata": {},
   "outputs": [],
   "source": [
    "#import warnings\n",
    "#warnings.filterwarnings('ignore')\n",
    "#import ipywidgets as widgets\n",
    "#from IPython.display import display"
   ]
  },
  {
   "cell_type": "code",
   "execution_count": null,
   "id": "6419c267",
   "metadata": {},
   "outputs": [],
   "source": [
    "#!jupyter nbextension enable --py widgetsnbextension --sys-prefix\n",
    "#!jupyter serverextension enable voila --sys-prefix\n",
    "#!jupyter notebook --VoilaConfiguration.enable_nbextensions=True"
   ]
  },
  {
   "cell_type": "code",
   "execution_count": null,
   "id": "9d12da7c",
   "metadata": {},
   "outputs": [],
   "source": [
    "#widgets.ToggleButtons(options = ['grandson','granddaughter'])"
   ]
  },
  {
   "cell_type": "code",
   "execution_count": null,
   "id": "59b15f4a",
   "metadata": {},
   "outputs": [],
   "source": [
    "#widgets.Text(placeholder='Your name here')"
   ]
  },
  {
   "cell_type": "code",
   "execution_count": null,
   "id": "a04785cb",
   "metadata": {},
   "outputs": [],
   "source": [
    "#widgets.DatePicker(description='Pick a Date')"
   ]
  },
  {
   "cell_type": "code",
   "execution_count": null,
   "id": "18ebd6b8",
   "metadata": {},
   "outputs": [],
   "source": [
    "#widgets.IntSlider(\n",
    "            #value=3, \n",
    "            #min=0, \n",
    "            #max=10,\n",
    "            #step=1,\n",
    "           # style={'description_width': 'initial'} \n",
    "          #)"
   ]
  },
  {
   "cell_type": "code",
   "execution_count": null,
   "id": "417e69bc",
   "metadata": {},
   "outputs": [],
   "source": [
    "import ipywidgets as widgets\n",
    "from IPython.display import display\n",
    "output = widgets.Output()\n",
    "\n",
    "@output.capture(clear_output=True,wait=True) # based on https://github.com/jupyter-widgets/ipywidgets/issues/1846 and https://ipywidgets.readthedocs.io/en/latest/examples/Output%20Widget.html\n",
    "def sayHello(b):\n",
    "    print('Hello world!')\n",
    "\n",
    "run_button = widgets.Button(\n",
    "      description = 'run'\n",
    ")\n",
    "run_button.on_click(sayHello)\n",
    "display(run_button)\n",
    "output"
   ]
  },
  {
   "cell_type": "code",
   "execution_count": null,
   "id": "0bde21e0",
   "metadata": {},
   "outputs": [],
   "source": []
  }
 ],
 "metadata": {
  "kernelspec": {
   "display_name": "Python 3",
   "language": "python",
   "name": "python3"
  },
  "language_info": {
   "codemirror_mode": {
    "name": "ipython",
    "version": 3
   },
   "file_extension": ".py",
   "mimetype": "text/x-python",
   "name": "python",
   "nbconvert_exporter": "python",
   "pygments_lexer": "ipython3",
   "version": "3.8.8"
  }
 },
 "nbformat": 4,
 "nbformat_minor": 5
}
